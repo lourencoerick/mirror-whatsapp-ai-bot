{
 "cells": [
  {
   "cell_type": "code",
   "execution_count": null,
   "metadata": {},
   "outputs": [],
   "source": []
  },
  {
   "cell_type": "code",
   "execution_count": 107,
   "metadata": {},
   "outputs": [],
   "source": [
    "%%capture --no-stderr\n",
    "%pip install -U langchain_openai langgraph langchain_core langchain_community pytrends requests beautifulsoup4 selenium webdriver_manager chromedriver-autoinstaller"
   ]
  },
  {
   "cell_type": "code",
   "execution_count": 19,
   "metadata": {},
   "outputs": [],
   "source": [
    "import os, getpass\n",
    "\n",
    "def _set_env(var: str):\n",
    "    # Check if the variable is set in the OS environment\n",
    "    env_value = os.environ.get(var)\n",
    "    if not env_value:\n",
    "        # If not set, prompt the user for input\n",
    "        env_value = getpass.getpass(f\"{var}: \")\n",
    "    \n",
    "    # Set the environment variable for the current process\n",
    "    os.environ[var] = env_value\n",
    "\n",
    "_set_env(\"OPENAI_API_KEY\")"
   ]
  },
  {
   "cell_type": "code",
   "execution_count": 20,
   "metadata": {},
   "outputs": [],
   "source": [
    "from typing import List\n",
    "from pydantic import BaseModel, Field\n",
    "\n",
    "class GeneratedWords(BaseModel):\n",
    "    words: List[str] = Field(..., description=\"List of the words beloging to a specific context\")\n"
   ]
  },
  {
   "cell_type": "code",
   "execution_count": 21,
   "metadata": {},
   "outputs": [],
   "source": [
    "from langchain_openai import ChatOpenAI\n",
    "\n",
    "llm = ChatOpenAI(model=\"gpt-4o-mini\", temperature=0.0, max_tokens=12000).with_retry(\n",
    "    stop_after_attempt=10\n",
    ")\n",
    "\n",
    "# Using with_structured_output feature to parse the output\n",
    "# to the pydantic models previous defined\n",
    "# with_retry -> https://python.langchain.com/api_reference/core/runnables/langchain_core.runnables.base.Runnable.html#langchain_core.runnables.base.Runnable.with_retry\n",
    "llm_w_structured_output = (\n",
    "    ChatOpenAI(model=\"gpt-4o-mini\", temperature=0.0)\n",
    "    .with_structured_output(GeneratedWords)\n",
    "    .with_retry(stop_after_attempt=10)  \n",
    ")"
   ]
  },
  {
   "cell_type": "code",
   "execution_count": 65,
   "metadata": {},
   "outputs": [],
   "source": [
    "from langchain_core.prompts import ChatPromptTemplate\n",
    "\n",
    "context = \"\"\"\n",
    "            🚀 Contexto\n",
    "            Hoje, o WhatsApp é um dos principais canais de vendas para pequenas e médias empresas (PMEs). No entanto, muitas delas enfrentam dificuldades em gerenciar mensagens, responder clientes a tempo e transformar conversas em vendas. O atendimento manual consome tempo e, muitas vezes, resulta em oportunidades perdidas.\n",
    "\n",
    "                ❌ O Problema das PMEs\n",
    "                📉 Perda de vendas por demora nas respostas ou atendimentos fora do horário.\n",
    "                ⏳ Falta de tempo para responder manualmente a cada cliente.\n",
    "                💬 Dificuldade em manter leads engajados e conduzi-los até a compra.\n",
    "                🔗 Falta de integração com ferramentas que otimizam o processo de vendas.\n",
    "\n",
    "            ✅ Nossa Solução: O Vendedor IA\n",
    "            Criamos um Vendedor IA para WhatsApp, que automatiza o atendimento, responde clientes 24/7 e impulsiona as vendas sem necessidade de intervenção manual. Ele aprende sobre a marca, os produtos e os valores da empresa para oferecer um atendimento mais personalizado e eficiente.\n",
    "\n",
    "                🎯 Principais Benefícios\n",
    "                🤖 Atendimento Automático 24/7 – Nunca mais perca vendas por falta de resposta.\n",
    "                ⚡ Respostas rápidas e inteligentes – Mantém clientes engajados no momento certo.\n",
    "                🛠 Fácil de configurar – Sem necessidade de programação, pronto em minutos.\n",
    "                📊 Dashboard com métricas – Acompanhe interações, leads e conversões.\n",
    "                🔗 Integração com CRM – Gerencie leads e otimize o processo de vendas.\n",
    "                📲 Totalmente conectado ao WhatsApp Business – Funcionamento fluido no principal canal de vendas das PMEs.\n",
    "\n",
    "            🤖 Mais que um Chatbot: Seu Vendedor IA\n",
    "                Muita gente já ouviu falar em chatbots, mas nosso Vendedor IA vai além!\n",
    "\n",
    "                Os chatbots tradicionais apenas respondem perguntas de forma automática. Já o Vendedor IA foi criado para entender sua marca, aprender sobre seus produtos e vender de verdade no WhatsApp.\n",
    "\n",
    "                O que isso significa na prática?\n",
    "                🚀 Ele não só responde – ele engaja e converte.\n",
    "                🧠 Aprende sobre sua empresa para representar seu negócio de forma personalizada.\n",
    "                📊 Fornece métricas e insights, ajudando você a vender mais.\n",
    "                🔗 Integra-se com WhatsApp Business e CRM para um fluxo de vendas completo.\n",
    "\n",
    "                💡 Enquanto um chatbot apenas atende, nosso Vendedor IA trabalha ativamente para aumentar suas vendas!\n",
    "        \"\"\"\n",
    "\n",
    "prompt = ChatPromptTemplate(\n",
    "    [\n",
    "        (\n",
    "            \"system\",\n",
    "            \"\"\"Atue como um especialista em SEO e análise de tendências de busca. Gere uma lista de **10 palavras-chave (palavras únicas)** relacionadas ao seguinte contexto:\n",
    "\n",
    "                ------------------------------------------------------------------\n",
    "                {context}\n",
    "                ------------------------------------------------------------------\n",
    "\n",
    "                🔹 **Requisitos:**  \n",
    "                1. As palavras devem ser altamente relevantes para pesquisas no Google.  \n",
    "                2. Inclua tanto **termos amplos** quanto **termos de cauda longa** para melhor identificação de tendências.  \n",
    "                3. Priorize palavras com potencial para aparecer em **Featured Snippets** e influenciar a seção **People Also Ask (PAA)**.  \n",
    "                4. Não inclua perguntas, apenas **termos principais** que possam ser usados para otimização de conteúdo.  \n",
    " \n",
    "            \"\"\",\n",
    "        ),\n",
    "    ]\n",
    ")"
   ]
  },
  {
   "cell_type": "code",
   "execution_count": 122,
   "metadata": {},
   "outputs": [
    {
     "data": {
      "text/plain": [
       "ChatPromptValue(messages=[SystemMessage(content='Atue como um especialista em SEO e análise de tendências de busca. Gere uma lista de **10 palavras-chave (palavras únicas)** relacionadas ao seguinte contexto:\\n\\n                ------------------------------------------------------------------\\n                \\n            🚀 Contexto\\n            Hoje, o WhatsApp é um dos principais canais de vendas para pequenas e médias empresas (PMEs). No entanto, muitas delas enfrentam dificuldades em gerenciar mensagens, responder clientes a tempo e transformar conversas em vendas. O atendimento manual consome tempo e, muitas vezes, resulta em oportunidades perdidas.\\n\\n                ❌ O Problema das PMEs\\n                📉 Perda de vendas por demora nas respostas ou atendimentos fora do horário.\\n                ⏳ Falta de tempo para responder manualmente a cada cliente.\\n                💬 Dificuldade em manter leads engajados e conduzi-los até a compra.\\n                🔗 Falta de integração com ferramentas que otimizam o processo de vendas.\\n\\n            ✅ Nossa Solução: O Vendedor IA\\n            Criamos um Vendedor IA para WhatsApp, que automatiza o atendimento, responde clientes 24/7 e impulsiona as vendas sem necessidade de intervenção manual. Ele aprende sobre a marca, os produtos e os valores da empresa para oferecer um atendimento mais personalizado e eficiente.\\n\\n                🎯 Principais Benefícios\\n                🤖 Atendimento Automático 24/7 – Nunca mais perca vendas por falta de resposta.\\n                ⚡ Respostas rápidas e inteligentes – Mantém clientes engajados no momento certo.\\n                🛠 Fácil de configurar – Sem necessidade de programação, pronto em minutos.\\n                📊 Dashboard com métricas – Acompanhe interações, leads e conversões.\\n                🔗 Integração com CRM – Gerencie leads e otimize o processo de vendas.\\n                📲 Totalmente conectado ao WhatsApp Business – Funcionamento fluido no principal canal de vendas das PMEs.\\n\\n            🤖 Mais que um Chatbot: Seu Vendedor IA\\n                Muita gente já ouviu falar em chatbots, mas nosso Vendedor IA vai além!\\n\\n                Os chatbots tradicionais apenas respondem perguntas de forma automática. Já o Vendedor IA foi criado para entender sua marca, aprender sobre seus produtos e vender de verdade no WhatsApp.\\n\\n                O que isso significa na prática?\\n                🚀 Ele não só responde – ele engaja e converte.\\n                🧠 Aprende sobre sua empresa para representar seu negócio de forma personalizada.\\n                📊 Fornece métricas e insights, ajudando você a vender mais.\\n                🔗 Integra-se com WhatsApp Business e CRM para um fluxo de vendas completo.\\n\\n                💡 Enquanto um chatbot apenas atende, nosso Vendedor IA trabalha ativamente para aumentar suas vendas!\\n        \\n                ------------------------------------------------------------------\\n\\n                🔹 **Requisitos:**  \\n                1. As palavras devem ser altamente relevantes para pesquisas no Google.  \\n                2. Inclua tanto **termos amplos** quanto **termos de cauda longa** para melhor identificação de tendências.  \\n                3. Priorize palavras com potencial para aparecer em **Featured Snippets** e influenciar a seção **People Also Ask (PAA)**.  \\n                4. Não inclua perguntas, apenas **termos principais** que possam ser usados para otimização de conteúdo.  \\n\\n            ', additional_kwargs={}, response_metadata={})])"
      ]
     },
     "execution_count": 122,
     "metadata": {},
     "output_type": "execute_result"
    }
   ],
   "source": [
    "prompt.invoke(input={ 'context': context})"
   ]
  },
  {
   "cell_type": "code",
   "execution_count": 66,
   "metadata": {},
   "outputs": [],
   "source": [
    "chain = prompt | llm_w_structured_output\n",
    "\n",
    "relevant_words = chain.invoke(input={ 'context': context})"
   ]
  },
  {
   "cell_type": "code",
   "execution_count": 29,
   "metadata": {},
   "outputs": [],
   "source": [
    "from pytrends.request import TrendReq\n",
    "\n",
    "pytrends = TrendReq(hl='pt-BR', tz=360, timeout=(10,25))#, proxies=['https://72.10.160.172:11723'])"
   ]
  },
  {
   "cell_type": "code",
   "execution_count": 67,
   "metadata": {},
   "outputs": [
    {
     "data": {
      "text/plain": [
       "['WhatsApp',\n",
       " 'atendimento',\n",
       " 'automação',\n",
       " 'vendas',\n",
       " 'chatbot',\n",
       " 'integração',\n",
       " 'leads',\n",
       " 'personalização',\n",
       " 'CRM',\n",
       " 'PMEs']"
      ]
     },
     "execution_count": 67,
     "metadata": {},
     "output_type": "execute_result"
    }
   ],
   "source": [
    "relevant_words.words"
   ]
  },
  {
   "cell_type": "code",
   "execution_count": 55,
   "metadata": {},
   "outputs": [
    {
     "data": {
      "text/plain": [
       "['atendimento automático', 'WhatsApp Business']"
      ]
     },
     "execution_count": 55,
     "metadata": {},
     "output_type": "execute_result"
    }
   ],
   "source": [
    "[str(w) for w in relevant_words.words[:2]]"
   ]
  },
  {
   "cell_type": "code",
   "execution_count": 68,
   "metadata": {},
   "outputs": [
    {
     "name": "stdout",
     "output_type": "stream",
     "text": [
      "WhatsApp\n",
      "atendimento\n",
      "automação\n",
      "vendas\n",
      "chatbot\n",
      "integração\n",
      "leads\n",
      "personalização\n",
      "CRM\n",
      "PMEs\n"
     ]
    }
   ],
   "source": [
    "# relevant_words.words[:1]\n",
    "word_stats = []\n",
    "for w in relevant_words.words:\n",
    "    print(w)\n",
    "    pytrends.build_payload(kw_list=[w], timeframe='2025-01-01 2025-03-08', geo='BR-SP')\n",
    "    word_stats.append(pytrends.interest_over_time())\n"
   ]
  },
  {
   "cell_type": "code",
   "execution_count": 73,
   "metadata": {},
   "outputs": [
    {
     "name": "stderr",
     "output_type": "stream",
     "text": [
      "/tmp/ipykernel_31938/3195702251.py:1: FutureWarning: Series.__getitem__ treating keys as positions is deprecated. In a future version, integer keys will always be treated as labels (consistent with DataFrame behavior). To access a value by position, use `ser.iloc[pos]`\n",
      "  word_stats[k].mean()[0]\n"
     ]
    },
    {
     "data": {
      "text/plain": [
       "np.float64(11.373134328358208)"
      ]
     },
     "execution_count": 73,
     "metadata": {},
     "output_type": "execute_result"
    }
   ],
   "source": [
    "word_stats[k].mean()[0]"
   ]
  },
  {
   "cell_type": "code",
   "execution_count": 75,
   "metadata": {},
   "outputs": [
    {
     "name": "stdout",
     "output_type": "stream",
     "text": [
      "WhatsApp: 71.22388059701493\n",
      "atendimento: 72.94029850746269\n",
      "automação: 61.92537313432836\n",
      "vendas: 78.6268656716418\n",
      "chatbot: 51.1044776119403\n",
      "integração: 35.776119402985074\n",
      "leads: 55.71641791044776\n",
      "personalização: 29.52238805970149\n",
      "CRM: 76.32835820895522\n",
      "PMEs: 11.373134328358208\n"
     ]
    }
   ],
   "source": [
    "for k, w in enumerate(relevant_words.words):\n",
    "    # print(w)\n",
    "    # print(word_stats[k].mean())\n",
    "    # print(word_stats[k])\n",
    "    print(f\"{w}: {word_stats[k].mean().iloc[0]}\")"
   ]
  },
  {
   "cell_type": "code",
   "execution_count": 35,
   "metadata": {},
   "outputs": [
    {
     "data": {
      "text/html": [
       "<div>\n",
       "<style scoped>\n",
       "    .dataframe tbody tr th:only-of-type {\n",
       "        vertical-align: middle;\n",
       "    }\n",
       "\n",
       "    .dataframe tbody tr th {\n",
       "        vertical-align: top;\n",
       "    }\n",
       "\n",
       "    .dataframe thead th {\n",
       "        text-align: right;\n",
       "    }\n",
       "</style>\n",
       "<table border=\"1\" class=\"dataframe\">\n",
       "  <thead>\n",
       "    <tr style=\"text-align: right;\">\n",
       "      <th></th>\n",
       "      <th>[0] pizza date</th>\n",
       "      <th>[0] pizza value</th>\n",
       "      <th>[1] vendas date</th>\n",
       "      <th>[1] vendas value</th>\n",
       "    </tr>\n",
       "  </thead>\n",
       "  <tbody>\n",
       "    <tr>\n",
       "      <th>0</th>\n",
       "      <td>Average</td>\n",
       "      <td>67</td>\n",
       "      <td>Average</td>\n",
       "      <td>27</td>\n",
       "    </tr>\n",
       "    <tr>\n",
       "      <th>1</th>\n",
       "      <td>4 de set. de 2022</td>\n",
       "      <td>88</td>\n",
       "      <td>18 de set. de 2022</td>\n",
       "      <td>17</td>\n",
       "    </tr>\n",
       "    <tr>\n",
       "      <th>2</th>\n",
       "      <td>5 de set. de 2022</td>\n",
       "      <td>45</td>\n",
       "      <td>19 de set. de 2022</td>\n",
       "      <td>30</td>\n",
       "    </tr>\n",
       "    <tr>\n",
       "      <th>3</th>\n",
       "      <td>6 de set. de 2022</td>\n",
       "      <td>53</td>\n",
       "      <td>20 de set. de 2022</td>\n",
       "      <td>33</td>\n",
       "    </tr>\n",
       "    <tr>\n",
       "      <th>4</th>\n",
       "      <td>7 de set. de 2022</td>\n",
       "      <td>76</td>\n",
       "      <td>21 de set. de 2022</td>\n",
       "      <td>31</td>\n",
       "    </tr>\n",
       "    <tr>\n",
       "      <th>5</th>\n",
       "      <td>8 de set. de 2022</td>\n",
       "      <td>47</td>\n",
       "      <td>22 de set. de 2022</td>\n",
       "      <td>32</td>\n",
       "    </tr>\n",
       "    <tr>\n",
       "      <th>6</th>\n",
       "      <td>9 de set. de 2022</td>\n",
       "      <td>63</td>\n",
       "      <td>23 de set. de 2022</td>\n",
       "      <td>27</td>\n",
       "    </tr>\n",
       "    <tr>\n",
       "      <th>7</th>\n",
       "      <td>10 de set. de 2022</td>\n",
       "      <td>100</td>\n",
       "      <td>24 de set. de 2022</td>\n",
       "      <td>20</td>\n",
       "    </tr>\n",
       "  </tbody>\n",
       "</table>\n",
       "</div>"
      ],
      "text/plain": [
       "       [0] pizza date  [0] pizza value     [1] vendas date  [1] vendas value\n",
       "0             Average               67             Average                27\n",
       "1   4 de set. de 2022               88  18 de set. de 2022                17\n",
       "2   5 de set. de 2022               45  19 de set. de 2022                30\n",
       "3   6 de set. de 2022               53  20 de set. de 2022                33\n",
       "4   7 de set. de 2022               76  21 de set. de 2022                31\n",
       "5   8 de set. de 2022               47  22 de set. de 2022                32\n",
       "6   9 de set. de 2022               63  23 de set. de 2022                27\n",
       "7  10 de set. de 2022              100  24 de set. de 2022                20"
      ]
     },
     "execution_count": 35,
     "metadata": {},
     "output_type": "execute_result"
    }
   ],
   "source": [
    "pytrends.build_payload(kw_list=['pizza', 'vendas'], timeframe=['2022-09-04 2022-09-10', '2022-09-18 2022-09-24'], geo='BR-SP')\n",
    "pytrends.multirange_interest_over_time()\n"
   ]
  },
  {
   "cell_type": "code",
   "execution_count": null,
   "metadata": {},
   "outputs": [],
   "source": []
  },
  {
   "cell_type": "code",
   "execution_count": 14,
   "metadata": {},
   "outputs": [
    {
     "data": {
      "text/html": [
       "<div>\n",
       "<style scoped>\n",
       "    .dataframe tbody tr th:only-of-type {\n",
       "        vertical-align: middle;\n",
       "    }\n",
       "\n",
       "    .dataframe tbody tr th {\n",
       "        vertical-align: top;\n",
       "    }\n",
       "\n",
       "    .dataframe thead th {\n",
       "        text-align: right;\n",
       "    }\n",
       "</style>\n",
       "<table border=\"1\" class=\"dataframe\">\n",
       "  <thead>\n",
       "    <tr style=\"text-align: right;\">\n",
       "      <th></th>\n",
       "    </tr>\n",
       "  </thead>\n",
       "  <tbody>\n",
       "  </tbody>\n",
       "</table>\n",
       "</div>"
      ],
      "text/plain": [
       "Empty DataFrame\n",
       "Columns: []\n",
       "Index: []"
      ]
     },
     "execution_count": 14,
     "metadata": {},
     "output_type": "execute_result"
    }
   ],
   "source": [
    "pytrends.multirange_interest_over_time()\n"
   ]
  },
  {
   "cell_type": "code",
   "execution_count": 14,
   "metadata": {},
   "outputs": [
    {
     "data": {
      "text/html": [
       "<div>\n",
       "<style scoped>\n",
       "    .dataframe tbody tr th:only-of-type {\n",
       "        vertical-align: middle;\n",
       "    }\n",
       "\n",
       "    .dataframe tbody tr th {\n",
       "        vertical-align: top;\n",
       "    }\n",
       "\n",
       "    .dataframe thead th {\n",
       "        text-align: right;\n",
       "    }\n",
       "</style>\n",
       "<table border=\"1\" class=\"dataframe\">\n",
       "  <thead>\n",
       "    <tr style=\"text-align: right;\">\n",
       "      <th></th>\n",
       "      <th>pizza</th>\n",
       "      <th>bagel</th>\n",
       "    </tr>\n",
       "    <tr>\n",
       "      <th>geoName</th>\n",
       "      <th></th>\n",
       "      <th></th>\n",
       "    </tr>\n",
       "  </thead>\n",
       "  <tbody>\n",
       "    <tr>\n",
       "      <th>Abbotsford</th>\n",
       "      <td>0</td>\n",
       "      <td>0</td>\n",
       "    </tr>\n",
       "    <tr>\n",
       "      <th>Akron</th>\n",
       "      <td>100</td>\n",
       "      <td>0</td>\n",
       "    </tr>\n",
       "    <tr>\n",
       "      <th>Albany</th>\n",
       "      <td>100</td>\n",
       "      <td>0</td>\n",
       "    </tr>\n",
       "    <tr>\n",
       "      <th>Allentown</th>\n",
       "      <td>0</td>\n",
       "      <td>0</td>\n",
       "    </tr>\n",
       "    <tr>\n",
       "      <th>Avalon</th>\n",
       "      <td>100</td>\n",
       "      <td>0</td>\n",
       "    </tr>\n",
       "    <tr>\n",
       "      <th>...</th>\n",
       "      <td>...</td>\n",
       "      <td>...</td>\n",
       "    </tr>\n",
       "    <tr>\n",
       "      <th>Windsor</th>\n",
       "      <td>0</td>\n",
       "      <td>0</td>\n",
       "    </tr>\n",
       "    <tr>\n",
       "      <th>Winnipeg</th>\n",
       "      <td>100</td>\n",
       "      <td>0</td>\n",
       "    </tr>\n",
       "    <tr>\n",
       "      <th>Winter Haven</th>\n",
       "      <td>100</td>\n",
       "      <td>0</td>\n",
       "    </tr>\n",
       "    <tr>\n",
       "      <th>Worcester</th>\n",
       "      <td>0</td>\n",
       "      <td>0</td>\n",
       "    </tr>\n",
       "    <tr>\n",
       "      <th>Youngstown</th>\n",
       "      <td>0</td>\n",
       "      <td>0</td>\n",
       "    </tr>\n",
       "  </tbody>\n",
       "</table>\n",
       "<p>200 rows × 2 columns</p>\n",
       "</div>"
      ],
      "text/plain": [
       "              pizza  bagel\n",
       "geoName                   \n",
       "Abbotsford        0      0\n",
       "Akron           100      0\n",
       "Albany          100      0\n",
       "Allentown         0      0\n",
       "Avalon          100      0\n",
       "...             ...    ...\n",
       "Windsor           0      0\n",
       "Winnipeg        100      0\n",
       "Winter Haven    100      0\n",
       "Worcester         0      0\n",
       "Youngstown        0      0\n",
       "\n",
       "[200 rows x 2 columns]"
      ]
     },
     "execution_count": 14,
     "metadata": {},
     "output_type": "execute_result"
    }
   ],
   "source": [
    "pytrends.interest_by_region(resolution='CITY', inc_low_vol=True, inc_geo_code=False)\n"
   ]
  },
  {
   "cell_type": "code",
   "execution_count": null,
   "metadata": {},
   "outputs": [
    {
     "name": "stdout",
     "output_type": "stream",
     "text": [
      "['Como automatizar o atendimento no WhatsApp', ['como automatizar o atendimento no whatsapp', 'como automatizar atendimento no whatsapp business', 'como automatizar o atendimento via whatsapp', 'como automatizar atendimento pelo whatsapp'], [], {'google:suggestsubtypes': [[512], [22, 30], [22, 30], [22, 30]]}]\n",
      "['como automatizar o atendimento no whatsapp', 'como automatizar atendimento no whatsapp business', 'como automatizar o atendimento via whatsapp', 'como automatizar atendimento pelo whatsapp']\n"
     ]
    }
   ],
   "source": [
    "import requests\n",
    "\n",
    "def get_google_autocomplete_suggestions(query):\n",
    "    url = f\"https://suggestqueries.google.com/complete/search?client=firefox&hl=pt-BR&gl=br&q={query}\"\n",
    "    response = requests.get(url)\n",
    "    print(response.json())\n",
    "    if response.status_code == 200:\n",
    "        return response.json()[1]  # As sugestões estão na segunda posição da lista retornada\n",
    "    return []\n",
    "\n",
    "query = \"Como automatizar o atendimento no WhatsApp\"\n",
    "suggestions = get_google_autocomplete_suggestions(query)\n",
    "print(suggestions)"
   ]
  },
  {
   "cell_type": "code",
   "execution_count": 81,
   "metadata": {},
   "outputs": [],
   "source": [
    "import requests\n",
    "from bs4 import BeautifulSoup\n",
    "def google_search(query):\n",
    "    query = query.replace(' ', '+')\n",
    "    url = f\"https://www.google.com/search?q={query}\"\n",
    "    headers = {\n",
    "        \"User-Agent\": \"Mozilla/5.0 (Windows NT 10.0; Win64; x64) AppleWebKit/537.36 (KHTML, like Gecko) Chrome/91.0.4472.124 Safari/537.36\"\n",
    "    }   \n",
    "    response = requests.get(url, headers=headers)\n",
    "    if response.status_code == 200:\n",
    "        print(\"Connection successful!\")\n",
    "        return BeautifulSoup(response.text, \"html.parser\")\n",
    "    else:\n",
    "        print(f\"Error: Unable to fetch the search results. Status code: {response.status_code}\")\n",
    "        return None"
   ]
  },
  {
   "cell_type": "code",
   "execution_count": 82,
   "metadata": {},
   "outputs": [],
   "source": [
    "def extract_questions(soup):\n",
    "    questions = []\n",
    "    if soup:\n",
    "        for question in soup.select('span.CSkcDe'):\n",
    "            questions.append(question.get_text())\n",
    "        return questions"
   ]
  },
  {
   "cell_type": "code",
   "execution_count": 83,
   "metadata": {},
   "outputs": [
    {
     "name": "stdout",
     "output_type": "stream",
     "text": [
      "Connection successful!\n"
     ]
    }
   ],
   "source": [
    "query = \"como automatizar o whatsapp\"\n",
    "soup = google_search(query)\n",
    "questions = extract_questions(soup)\n"
   ]
  },
  {
   "cell_type": "code",
   "execution_count": 109,
   "metadata": {},
   "outputs": [
    {
     "data": {
      "text/plain": [
       "'/home/vscode/.local/lib/python3.11/site-packages/chromedriver_autoinstaller/134/chromedriver'"
      ]
     },
     "execution_count": 109,
     "metadata": {},
     "output_type": "execute_result"
    }
   ],
   "source": [
    "import chromedriver_autoinstaller\n",
    "chromedriver_autoinstaller.install()\n"
   ]
  },
  {
   "cell_type": "code",
   "execution_count": 117,
   "metadata": {},
   "outputs": [
    {
     "name": "stdout",
     "output_type": "stream",
     "text": [
      "Perguntas do PAA:\n"
     ]
    }
   ],
   "source": [
    "from selenium import webdriver\n",
    "from selenium.webdriver.common.by import By\n",
    "from selenium.webdriver.chrome.service import Service\n",
    "from webdriver_manager.chrome import ChromeDriverManager\n",
    "from selenium.webdriver.chrome.options import Options\n",
    "\n",
    "import time\n",
    "\n",
    "def get_paa_questions(query):\n",
    "\n",
    "    options = Options()\n",
    "    options.add_argument(\"--headless\")  # Executa sem abrir a janela (modo headless)\n",
    "    options.add_argument(\"--no-sandbox\")  # Recomendado para ambientes Linux\n",
    "    options.add_argument(\"--disable-dev-shm-usage\")  # Evita problemas de memória compartilhada\n",
    "\n",
    "\n",
    "    # Definir um User-Agent realista\n",
    "    options.add_argument(\n",
    "        \"user-agent=Mozilla/5.0 (Windows NT 10.0; Win64; x64) AppleWebKit/537.36 (KHTML, like Gecko) Chrome/119.0.0.0 Safari/537.36\"\n",
    "    )\n",
    "\n",
    "    service = Service(ChromeDriverManager().install())\n",
    "    driver = webdriver.Chrome(service=service, options=options)\n",
    "    # Configurar WebDriver do Chrome\n",
    "    # service = Service(ChromeDriverManager().install())\n",
    "    # driver = webdriver.Chrome(service=service)\n",
    "\n",
    "    # Abrir Google e pesquisar\n",
    "    google_search_url = f\"https://www.google.com/search?q={query}\"\n",
    "    driver.get(google_search_url)\n",
    "    time.sleep(3)\n",
    "\n",
    "    # Encontrar perguntas do PAA\n",
    "    paa_questions = []\n",
    "    questions = driver.find_elements(By.XPATH, \"//div[@jsname='yEVEwb']/span\")\n",
    "\n",
    "    for question in questions:\n",
    "        paa_questions.append(question.text)\n",
    "        question.click()\n",
    "        time.sleep(1)  # Pequena pausa para carregar mais perguntas\n",
    "\n",
    "    driver.quit()\n",
    "    return paa_questions\n",
    "\n",
    "query = \"como melhorar o SEO\"\n",
    "paa_results = get_paa_questions(query)\n",
    "\n",
    "print(\"Perguntas do PAA:\")\n",
    "for question in paa_results:\n",
    "    print(f\"- {question}\")\n"
   ]
  },
  {
   "cell_type": "code",
   "execution_count": null,
   "metadata": {},
   "outputs": [],
   "source": [
    "options = Options()\n",
    "options.add_argument(\"--headless\")  # Executa sem abrir a janela (modo headless)\n",
    "options.add_argument(\"--no-sandbox\")  # Recomendado para ambientes Linux\n",
    "options.add_argument(\"--disable-dev-shm-usage\")  # Evita problemas de memória compartilhada\n",
    "\n",
    "\n",
    "# Definir um User-Agent realista\n",
    "options.add_argument(\n",
    "    \"user-agent=Mozilla/5.0 (Windows NT 10.0; Win64; x64) AppleWebKit/537.36 (KHTML, like Gecko) Chrome/119.0.0.0 Safari/537.36\"\n",
    ")\n",
    "\n",
    "service = Service(ChromeDriverManager().install())\n",
    "driver = webdriver.Chrome(service=service, options=options)\n",
    "query = \"como melhorar o SEO\"\n",
    "# Abrir Google e pesquisar\n",
    "google_search_url = f\"https://www.google.com/search?q={query}\"\n",
    "driver.get(google_search_url)"
   ]
  },
  {
   "cell_type": "code",
   "execution_count": 90,
   "metadata": {},
   "outputs": [
    {
     "data": {
      "text/plain": [
       "'como automatizar o whatsapp'"
      ]
     },
     "execution_count": 90,
     "metadata": {},
     "output_type": "execute_result"
    }
   ],
   "source": [
    "query"
   ]
  },
  {
   "cell_type": "code",
   "execution_count": 119,
   "metadata": {},
   "outputs": [
    {
     "data": {
      "text/plain": [
       "'<html><head><meta http-equiv=\"origin-trial\" content=\"A/kargTFyk8MR5ueravczef/wIlTkbVk1qXQesp39nV+xNECPdLBVeYffxrM8TmZT6RArWGQVCJ0LRivD7glcAUAAACQeyJvcmlnaW4iOiJodHRwczovL2dvb2dsZS5jb206NDQzIiwiZmVhdHVyZSI6IkRpc2FibGVUaGlyZFBhcnR5U3RvcmFnZVBhcnRpdGlvbmluZzIiLCJleHBpcnkiOjE3NDIzNDIzOTksImlzU3ViZG9tYWluIjp0cnVlLCJpc1RoaXJkUGFydHkiOnRydWV9\"><meta http-equiv=\"content-type\" content=\"text/html; charset=utf-8\"><meta name=\"viewport\" content=\"initial-scale=1\"><title>https://www.google.com/search?q=como%20melhorar%20o%20SEO&amp;sei=JBnOZ6KJN_SU5OUPst7YyAM</title></head>\\n<body style=\"font-family: arial, sans-serif; background-color: #fff; color: #000; padding:20px; font-size:18px; overscroll-behavior:contain;\" onload=\"e=document.getElementById(\\'captcha\\');if(e){e.focus();} if(solveSimpleChallenge) {solveSimpleChallenge(0,0);}\">\\n<div style=\"max-width:400px;\">\\n<hr noshade=\"\" size=\"1\" style=\"color:#ccc; background-color:#ccc;\"><br>\\n<form id=\"captcha-form\" action=\"index\" method=\"post\">\\n<noscript>\\n<div style=\"font-size:13px;\">\\n  In order to continue, please enable javascript on your web browser.\\n</div>\\n</noscript>\\n<script type=\"text/javascript\" async=\"\" charset=\"utf-8\" src=\"https://www.gstatic.com/recaptcha/releases/EGO3I7Q26cZ-jBw3BEtzIx7-/recaptcha__en.js\" crossorigin=\"anonymous\" integrity=\"sha384-61VR//KO5vDNAFE1O0P7MzEOKj68zRELxJeYIL5DD4Cj1hdU5Cro7XZfUD04Ca7S\"></script><script src=\"https://www.google.com/recaptcha/api.js\" async=\"\" defer=\"\"></script>\\n<script>var submitCallback = function(response) {document.getElementById(\\'captcha-form\\').submit();};</script>\\n<div id=\"recaptcha\" class=\"g-recaptcha\" data-sitekey=\"6LfwuyUTAAAAAOAmoS0fdqijC2PbbdH4kjq62Y1b\" data-callback=\"submitCallback\" data-s=\"ZFWTcywGEIvmnHvr44QwKZFlUfqQ0WC-9kAC_C4kf-f6zSEsCbYfTxeYYq8_TZBY2NB89bn5hvEs6PYkr_Ey3k8mPjFHH0HP6iv0wVpooB4u2Zbl8JP-RgSkaVgXvkvIi_1z6V-tJj9cFmu5Ej-6V0nSZpfBppxTA_tNkbJxnNWZY0ukAWHy4rHioUQVInZrfOXpLObnWLForLZPnyJt4ltzBuZOB0wHeIxhu_TSSsR5XzaF0bmfObPnKddNg4kUoRMyBKC6KCPm6mIGmD13bRUlSOizfoI\"><div style=\"width: 304px; height: 78px;\"><div><iframe title=\"reCAPTCHA\" width=\"304\" height=\"78\" role=\"presentation\" name=\"a-rhibh3bux4t\" frameborder=\"0\" scrolling=\"no\" sandbox=\"allow-forms allow-popups allow-same-origin allow-scripts allow-top-navigation allow-modals allow-popups-to-escape-sandbox allow-storage-access-by-user-activation\" src=\"https://www.google.com/recaptcha/api2/anchor?ar=1&amp;k=6LfwuyUTAAAAAOAmoS0fdqijC2PbbdH4kjq62Y1b&amp;co=aHR0cHM6Ly93d3cuZ29vZ2xlLmNvbTo0NDM.&amp;hl=en&amp;v=EGO3I7Q26cZ-jBw3BEtzIx7-&amp;size=normal&amp;s=ZFWTcywGEIvmnHvr44QwKZFlUfqQ0WC-9kAC_C4kf-f6zSEsCbYfTxeYYq8_TZBY2NB89bn5hvEs6PYkr_Ey3k8mPjFHH0HP6iv0wVpooB4u2Zbl8JP-RgSkaVgXvkvIi_1z6V-tJj9cFmu5Ej-6V0nSZpfBppxTA_tNkbJxnNWZY0ukAWHy4rHioUQVInZrfOXpLObnWLForLZPnyJt4ltzBuZOB0wHeIxhu_TSSsR5XzaF0bmfObPnKddNg4kUoRMyBKC6KCPm6mIGmD13bRUlSOizfoI&amp;cb=9jbxd8utiod8\"></iframe></div><textarea id=\"g-recaptcha-response\" name=\"g-recaptcha-response\" class=\"g-recaptcha-response\" style=\"width: 250px; height: 40px; border: 1px solid rgb(193, 193, 193); margin: 10px 25px; padding: 0px; resize: none; display: none;\"></textarea></div><iframe style=\"display: none;\"></iframe></div>\\n\\n<input type=\"hidden\" name=\"q\" value=\"EgSxvAkrGKWyuL4GIjDn4ENWTdY4ReIepjHY06Q3Ws4ijB2ByBRz21o-Nd61t6XjpeMghRLa3nZ7d5xdOiIyAXJaAUM\"><input type=\"hidden\" name=\"continue\" value=\"https://www.google.com/search?q=como%20melhorar%20o%20SEO&amp;sei=JBnOZ6KJN_SU5OUPst7YyAM\">\\n</form>\\n<hr noshade=\"\" size=\"1\" style=\"color:#ccc; background-color:#ccc;\">\\n\\n<div style=\"font-size:13px; line-break: anywhere;\">\\n<b>About this page</b><br><br>\\n\\nOur systems have detected unusual traffic from your computer network.  This page checks to see if it\\'s really you sending the requests, and not a robot.  <a href=\"#\" onclick=\"document.getElementById(\\'infoDiv\\').style.display=\\'block\\';\">Why did this happen?</a><br><br>\\n\\n<div id=\"infoDiv\" style=\"display:none; background-color:#eee; padding:10px; margin:0 0 15px 0; line-height:1.4em;\">\\nThis page appears when Google automatically detects requests coming from your computer network which appear to be in violation of the <a href=\"//www.google.com/policies/terms/\">Terms of Service</a>. The block will expire shortly after those requests stop.  In the meantime, solving the above CAPTCHA will let you continue to use our services.<br><br>This traffic may have been sent by malicious software, a browser plug-in, or a script that sends automated requests.  If you share your network connection, ask your administrator for help — a different computer using the same IP address may be responsible.  <a href=\"//support.google.com/websearch/answer/86640\">Learn more</a><br><br>Sometimes you may be asked to solve the CAPTCHA if you are using advanced terms that robots are known to use, or sending requests very quickly.\\n</div>\\n\\nIP address: 177.188.9.43<br>Time: 2025-03-09T22:41:41Z<br>URL: https://www.google.com/search?q=como%20melhorar%20o%20SEO&amp;sei=JBnOZ6KJN_SU5OUPst7YyAM<br>\\n</div>\\n</div>\\n\\n\\n<div style=\"background-color: rgb(255, 255, 255); border: 1px solid rgb(204, 204, 204); box-shadow: rgba(0, 0, 0, 0.2) 2px 2px 3px; position: absolute; transition: visibility linear 0.3s, opacity 0.3s linear; opacity: 0; visibility: hidden; z-index: 2000000000; left: 0px; top: -10000px;\"><div style=\"width: 100%; height: 100%; position: fixed; top: 0px; left: 0px; z-index: 2000000000; background-color: rgb(255, 255, 255); opacity: 0.05;\"></div><div class=\"g-recaptcha-bubble-arrow\" style=\"border: 11px solid transparent; width: 0px; height: 0px; position: absolute; pointer-events: none; margin-top: -11px; z-index: 2000000000;\"></div><div class=\"g-recaptcha-bubble-arrow\" style=\"border: 10px solid transparent; width: 0px; height: 0px; position: absolute; pointer-events: none; margin-top: -10px; z-index: 2000000000;\"></div><div style=\"z-index: 2000000000; position: relative;\"><iframe title=\"recaptcha challenge expires in two minutes\" name=\"c-rhibh3bux4t\" frameborder=\"0\" scrolling=\"no\" sandbox=\"allow-forms allow-popups allow-same-origin allow-scripts allow-top-navigation allow-modals allow-popups-to-escape-sandbox allow-storage-access-by-user-activation\" src=\"https://www.google.com/recaptcha/api2/bframe?hl=en&amp;v=EGO3I7Q26cZ-jBw3BEtzIx7-&amp;k=6LfwuyUTAAAAAOAmoS0fdqijC2PbbdH4kjq62Y1b\" style=\"width: 100%; height: 100%;\"></iframe></div></div></body></html>'"
      ]
     },
     "execution_count": 119,
     "metadata": {},
     "output_type": "execute_result"
    }
   ],
   "source": [
    "driver.page_source"
   ]
  },
  {
   "cell_type": "code",
   "execution_count": null,
   "metadata": {},
   "outputs": [],
   "source": []
  }
 ],
 "metadata": {
  "kernelspec": {
   "display_name": "Python 3",
   "language": "python",
   "name": "python3"
  },
  "language_info": {
   "codemirror_mode": {
    "name": "ipython",
    "version": 3
   },
   "file_extension": ".py",
   "mimetype": "text/x-python",
   "name": "python",
   "nbconvert_exporter": "python",
   "pygments_lexer": "ipython3",
   "version": "3.11.4"
  }
 },
 "nbformat": 4,
 "nbformat_minor": 2
}
